{
  "nbformat": 4,
  "nbformat_minor": 0,
  "metadata": {
    "colab": {
      "name": "Debugging Errors and Large Scripts",
      "provenance": [],
      "collapsed_sections": [],
      "include_colab_link": true
    },
    "kernelspec": {
      "display_name": "Python 3",
      "name": "python3"
    }
  },
  "cells": [
    {
      "cell_type": "markdown",
      "metadata": {
        "id": "view-in-github",
        "colab_type": "text"
      },
      "source": [
        "<a href=\"https://colab.research.google.com/github/masefrizzy/Concrete-strength-prediction/blob/main/Debugging_Errors_and_Large_Scripts.ipynb\" target=\"_parent\"><img src=\"https://colab.research.google.com/assets/colab-badge.svg\" alt=\"Open In Colab\"/></a>"
      ]
    },
    {
      "cell_type": "markdown",
      "metadata": {
        "id": "d-JVavDq-Lxh"
      },
      "source": [
        "## Debugging Errors\n",
        "\n",
        "Generally local development is the easiest way to test and exercise functions. Still things can go wrong in the hosted model for any number of reasons. The logs from function invocation for feature transformation and model training are recorded and are available for inspection. Further, errors at prediction time are also reported but a little differently than for long running jobs.\n",
        "\n",
        "In this section we will review error handling and reporting.\n"
      ]
    },
    {
      "cell_type": "markdown",
      "metadata": {
        "id": "uIhrIhXeqJJE"
      },
      "source": [
        "### Abacus.AI Setup\n",
        "\n",
        "1. Install the Abacus.AI library."
      ]
    },
    {
      "cell_type": "code",
      "metadata": {
        "id": "JSsm7EQrmvey",
        "outputId": "d3e8124f-9402-441e-ea19-38d90056f284",
        "colab": {
          "base_uri": "https://localhost:8080/"
        }
      },
      "source": [
        "!pip install abacusai"
      ],
      "execution_count": null,
      "outputs": [
        {
          "output_type": "stream",
          "name": "stdout",
          "text": [
            "Collecting abacusai\n",
            "  Downloading abacusai-0.34.3.tar.gz (3.3 MB)\n",
            "\u001b[K     |████████████████████████████████| 3.3 MB 6.0 MB/s \n",
            "\u001b[?25hRequirement already satisfied: packaging in /usr/local/lib/python3.7/dist-packages (from abacusai) (21.3)\n",
            "Requirement already satisfied: requests in /usr/local/lib/python3.7/dist-packages (from abacusai) (2.23.0)\n",
            "Requirement already satisfied: pandas in /usr/local/lib/python3.7/dist-packages (from abacusai) (1.3.5)\n",
            "Collecting fastavro\n",
            "  Downloading fastavro-1.4.9-cp37-cp37m-manylinux_2_17_x86_64.manylinux2014_x86_64.whl (2.3 MB)\n",
            "\u001b[K     |████████████████████████████████| 2.3 MB 37.8 MB/s \n",
            "\u001b[?25hRequirement already satisfied: pyparsing!=3.0.5,>=2.0.2 in /usr/local/lib/python3.7/dist-packages (from packaging->abacusai) (3.0.7)\n",
            "Requirement already satisfied: numpy>=1.17.3 in /usr/local/lib/python3.7/dist-packages (from pandas->abacusai) (1.21.5)\n",
            "Requirement already satisfied: pytz>=2017.3 in /usr/local/lib/python3.7/dist-packages (from pandas->abacusai) (2018.9)\n",
            "Requirement already satisfied: python-dateutil>=2.7.3 in /usr/local/lib/python3.7/dist-packages (from pandas->abacusai) (2.8.2)\n",
            "Requirement already satisfied: six>=1.5 in /usr/local/lib/python3.7/dist-packages (from python-dateutil>=2.7.3->pandas->abacusai) (1.15.0)\n",
            "Requirement already satisfied: chardet<4,>=3.0.2 in /usr/local/lib/python3.7/dist-packages (from requests->abacusai) (3.0.4)\n",
            "Requirement already satisfied: certifi>=2017.4.17 in /usr/local/lib/python3.7/dist-packages (from requests->abacusai) (2021.10.8)\n",
            "Requirement already satisfied: idna<3,>=2.5 in /usr/local/lib/python3.7/dist-packages (from requests->abacusai) (2.10)\n",
            "Requirement already satisfied: urllib3!=1.25.0,!=1.25.1,<1.26,>=1.21.1 in /usr/local/lib/python3.7/dist-packages (from requests->abacusai) (1.24.3)\n",
            "Building wheels for collected packages: abacusai\n",
            "  Building wheel for abacusai (setup.py) ... \u001b[?25l\u001b[?25hdone\n",
            "  Created wheel for abacusai: filename=abacusai-0.34.3-py3-none-any.whl size=118020 sha256=53f60e69ac59cb97696c4f85c0bbd3b5851bc4cd28d2e8724499417d11e16717\n",
            "  Stored in directory: /root/.cache/pip/wheels/19/af/9c/961d3284bf3ccc4513c7150c6da17c38edb6300b81c05df8d3\n",
            "Successfully built abacusai\n",
            "Installing collected packages: fastavro, abacusai\n",
            "Successfully installed abacusai-0.34.3 fastavro-1.4.9\n"
          ]
        }
      ]
    },
    {
      "cell_type": "markdown",
      "metadata": {
        "id": "izrh6I2aqlTa"
      },
      "source": [
        "2. Add your Abacus.AI [API Key](https://abacus.ai/app/profile/apikey) generated using the API dashboard as follows:"
      ]
    },
    {
      "cell_type": "code",
      "metadata": {
        "id": "d8TJ_-Qamz5x"
      },
      "source": [
        "#@title Abacus.AI API Key\n",
        "\n",
        "api_key = '49256d9a1f2843acb795e937d6aa3cbc'  #@param {type: \"string\"}"
      ],
      "execution_count": null,
      "outputs": []
    },
    {
      "cell_type": "markdown",
      "metadata": {
        "id": "fqpb-UfFqmzs"
      },
      "source": [
        "3. Import the Abacus.AI library and instantiate a client."
      ]
    },
    {
      "cell_type": "code",
      "metadata": {
        "id": "U8M1MoB0m1DV"
      },
      "source": [
        "from abacusai import ApiClient, ApiException\n",
        "client = ApiClient(api_key)"
      ],
      "execution_count": null,
      "outputs": []
    },
    {
      "cell_type": "markdown",
      "metadata": {
        "id": "2tXzo8ZRqodi"
      },
      "source": [
        "## 1. Create a Project\n",
        "\n"
      ]
    },
    {
      "cell_type": "markdown",
      "metadata": {
        "id": "ZWSjEJ7AqrQW"
      },
      "source": [
        "In this notebook, we're going to see how to use python to customize models in Abacus. We will cover custom data transforms, model training and prediction handling. Projects that will be hosting a custom model needed to be created with the `PYTHON_MODEL` use case. Note that custom python data transforms can be used in any kind of project and like any other feature group can be shared across projects. However, custom training algorithms and prediction functions are enabled by this use case."
      ]
    },
    {
      "cell_type": "code",
      "metadata": {
        "id": "8idfft0im5ci"
      },
      "source": [
        "project = client.create_project(name='Debugging Python Models', use_case='PYTHON_MODEL')"
      ],
      "execution_count": null,
      "outputs": []
    },
    {
      "cell_type": "markdown",
      "metadata": {
        "id": "2R3p7tAkrwPv"
      },
      "source": [
        "### Add the datasets to Abacus.AI\n"
      ]
    },
    {
      "cell_type": "markdown",
      "metadata": {
        "id": "0mDVrJYKrzB9"
      },
      "source": [
        "Using the Create Dataset API, we can tell Abacus.AI the public S3 URI of where to find the datasets.\n",
        "\n"
      ]
    },
    {
      "cell_type": "code",
      "metadata": {
        "id": "oi6qwR46m71i"
      },
      "source": [
        "# if the dataset already exists, skip creation\n",
        "try: \n",
        "  concrete_dataset = client.describe_dataset(client.describe_feature_group_by_table_name('concrete_strength').dataset_id)\n",
        "except ApiException: # dataset not found\n",
        "  concrete_dataset = client.create_dataset_from_file_connector(\n",
        "      name='Concrete Strength',\n",
        "      table_name='concrete_strength',\n",
        "      location='s3://abacusai.exampledatasets/predicting/concrete_measurements.csv')\n",
        "  concrete_dataset.wait_for_inspection()"
      ],
      "execution_count": null,
      "outputs": []
    },
    {
      "cell_type": "markdown",
      "metadata": {
        "id": "oRKjHmJDYsZS"
      },
      "source": [
        "### Load the dataset so we can build and test the transform.\n",
        "\n",
        "Most of the time it is easiest to develop custom transformations on your local machine. It makes iteration, inspection and debugging easier and often you can do it directly in a notebook environment. To enable simple local development you can use the Abacus.AI client to load your dataset as a pandas dataframe. This tends to work well if your dataset is under `100MB` but for datasets that get much larger you will likely want to construct a sampled feature group for development.\n",
        "\n",
        "Here we are working with a fairly small dataset so can easily load it into memory. The first block fetches the feature group corresponding to the dataset (datasets are used to move data into Abacus.AI, feature groups are used to consume data for various operations). It initiates a materialization of the feature group to generate a snapshot, waits for it to be ready and then loads it as a pandas dataframe."
      ]
    },
    {
      "cell_type": "code",
      "metadata": {
        "id": "2egrfrygYfU6",
        "colab": {
          "base_uri": "https://localhost:8080/",
          "height": 363
        },
        "outputId": "e7a661c6-5ea6-4b3c-c9a7-6806504c3c6f"
      },
      "source": [
        "concrete_feature_group = concrete_dataset.describe_feature_group()\n",
        "if not concrete_feature_group.list_versions():\n",
        "  concrete_feature_group.create_version()\n",
        "concrete_feature_group.wait_for_materialization()\n",
        "\n",
        "concrete_df = concrete_feature_group.load_as_pandas()\n",
        "concrete_df[:10]"
      ],
      "execution_count": null,
      "outputs": [
        {
          "output_type": "execute_result",
          "data": {
            "text/html": [
              "\n",
              "  <div id=\"df-564613a0-99b9-487c-bcb2-cf6147289764\">\n",
              "    <div class=\"colab-df-container\">\n",
              "      <div>\n",
              "<style scoped>\n",
              "    .dataframe tbody tr th:only-of-type {\n",
              "        vertical-align: middle;\n",
              "    }\n",
              "\n",
              "    .dataframe tbody tr th {\n",
              "        vertical-align: top;\n",
              "    }\n",
              "\n",
              "    .dataframe thead th {\n",
              "        text-align: right;\n",
              "    }\n",
              "</style>\n",
              "<table border=\"1\" class=\"dataframe\">\n",
              "  <thead>\n",
              "    <tr style=\"text-align: right;\">\n",
              "      <th></th>\n",
              "      <th>cement</th>\n",
              "      <th>slag</th>\n",
              "      <th>flyash</th>\n",
              "      <th>water</th>\n",
              "      <th>superplasticizer</th>\n",
              "      <th>coarseaggregate</th>\n",
              "      <th>fineaggregate</th>\n",
              "      <th>age</th>\n",
              "      <th>csMPa</th>\n",
              "    </tr>\n",
              "  </thead>\n",
              "  <tbody>\n",
              "    <tr>\n",
              "      <th>0</th>\n",
              "      <td>540.0</td>\n",
              "      <td>0.0</td>\n",
              "      <td>0.0</td>\n",
              "      <td>162.0</td>\n",
              "      <td>2.5</td>\n",
              "      <td>1040.0</td>\n",
              "      <td>676.0</td>\n",
              "      <td>28.0</td>\n",
              "      <td>79.99</td>\n",
              "    </tr>\n",
              "    <tr>\n",
              "      <th>1</th>\n",
              "      <td>540.0</td>\n",
              "      <td>0.0</td>\n",
              "      <td>0.0</td>\n",
              "      <td>162.0</td>\n",
              "      <td>2.5</td>\n",
              "      <td>1055.0</td>\n",
              "      <td>676.0</td>\n",
              "      <td>28.0</td>\n",
              "      <td>61.89</td>\n",
              "    </tr>\n",
              "    <tr>\n",
              "      <th>2</th>\n",
              "      <td>332.5</td>\n",
              "      <td>142.5</td>\n",
              "      <td>0.0</td>\n",
              "      <td>228.0</td>\n",
              "      <td>0.0</td>\n",
              "      <td>932.0</td>\n",
              "      <td>594.0</td>\n",
              "      <td>270.0</td>\n",
              "      <td>40.27</td>\n",
              "    </tr>\n",
              "    <tr>\n",
              "      <th>3</th>\n",
              "      <td>332.5</td>\n",
              "      <td>142.5</td>\n",
              "      <td>0.0</td>\n",
              "      <td>228.0</td>\n",
              "      <td>0.0</td>\n",
              "      <td>932.0</td>\n",
              "      <td>594.0</td>\n",
              "      <td>365.0</td>\n",
              "      <td>41.05</td>\n",
              "    </tr>\n",
              "    <tr>\n",
              "      <th>4</th>\n",
              "      <td>198.6</td>\n",
              "      <td>132.4</td>\n",
              "      <td>0.0</td>\n",
              "      <td>192.0</td>\n",
              "      <td>0.0</td>\n",
              "      <td>978.4</td>\n",
              "      <td>825.5</td>\n",
              "      <td>360.0</td>\n",
              "      <td>44.30</td>\n",
              "    </tr>\n",
              "    <tr>\n",
              "      <th>5</th>\n",
              "      <td>266.0</td>\n",
              "      <td>114.0</td>\n",
              "      <td>0.0</td>\n",
              "      <td>228.0</td>\n",
              "      <td>0.0</td>\n",
              "      <td>932.0</td>\n",
              "      <td>670.0</td>\n",
              "      <td>90.0</td>\n",
              "      <td>47.03</td>\n",
              "    </tr>\n",
              "    <tr>\n",
              "      <th>6</th>\n",
              "      <td>380.0</td>\n",
              "      <td>95.0</td>\n",
              "      <td>0.0</td>\n",
              "      <td>228.0</td>\n",
              "      <td>0.0</td>\n",
              "      <td>932.0</td>\n",
              "      <td>594.0</td>\n",
              "      <td>365.0</td>\n",
              "      <td>43.70</td>\n",
              "    </tr>\n",
              "    <tr>\n",
              "      <th>7</th>\n",
              "      <td>380.0</td>\n",
              "      <td>95.0</td>\n",
              "      <td>0.0</td>\n",
              "      <td>228.0</td>\n",
              "      <td>0.0</td>\n",
              "      <td>932.0</td>\n",
              "      <td>594.0</td>\n",
              "      <td>28.0</td>\n",
              "      <td>36.45</td>\n",
              "    </tr>\n",
              "    <tr>\n",
              "      <th>8</th>\n",
              "      <td>266.0</td>\n",
              "      <td>114.0</td>\n",
              "      <td>0.0</td>\n",
              "      <td>228.0</td>\n",
              "      <td>0.0</td>\n",
              "      <td>932.0</td>\n",
              "      <td>670.0</td>\n",
              "      <td>28.0</td>\n",
              "      <td>45.85</td>\n",
              "    </tr>\n",
              "    <tr>\n",
              "      <th>9</th>\n",
              "      <td>475.0</td>\n",
              "      <td>0.0</td>\n",
              "      <td>0.0</td>\n",
              "      <td>228.0</td>\n",
              "      <td>0.0</td>\n",
              "      <td>932.0</td>\n",
              "      <td>594.0</td>\n",
              "      <td>28.0</td>\n",
              "      <td>39.29</td>\n",
              "    </tr>\n",
              "  </tbody>\n",
              "</table>\n",
              "</div>\n",
              "      <button class=\"colab-df-convert\" onclick=\"convertToInteractive('df-564613a0-99b9-487c-bcb2-cf6147289764')\"\n",
              "              title=\"Convert this dataframe to an interactive table.\"\n",
              "              style=\"display:none;\">\n",
              "        \n",
              "  <svg xmlns=\"http://www.w3.org/2000/svg\" height=\"24px\"viewBox=\"0 0 24 24\"\n",
              "       width=\"24px\">\n",
              "    <path d=\"M0 0h24v24H0V0z\" fill=\"none\"/>\n",
              "    <path d=\"M18.56 5.44l.94 2.06.94-2.06 2.06-.94-2.06-.94-.94-2.06-.94 2.06-2.06.94zm-11 1L8.5 8.5l.94-2.06 2.06-.94-2.06-.94L8.5 2.5l-.94 2.06-2.06.94zm10 10l.94 2.06.94-2.06 2.06-.94-2.06-.94-.94-2.06-.94 2.06-2.06.94z\"/><path d=\"M17.41 7.96l-1.37-1.37c-.4-.4-.92-.59-1.43-.59-.52 0-1.04.2-1.43.59L10.3 9.45l-7.72 7.72c-.78.78-.78 2.05 0 2.83L4 21.41c.39.39.9.59 1.41.59.51 0 1.02-.2 1.41-.59l7.78-7.78 2.81-2.81c.8-.78.8-2.07 0-2.86zM5.41 20L4 18.59l7.72-7.72 1.47 1.35L5.41 20z\"/>\n",
              "  </svg>\n",
              "      </button>\n",
              "      \n",
              "  <style>\n",
              "    .colab-df-container {\n",
              "      display:flex;\n",
              "      flex-wrap:wrap;\n",
              "      gap: 12px;\n",
              "    }\n",
              "\n",
              "    .colab-df-convert {\n",
              "      background-color: #E8F0FE;\n",
              "      border: none;\n",
              "      border-radius: 50%;\n",
              "      cursor: pointer;\n",
              "      display: none;\n",
              "      fill: #1967D2;\n",
              "      height: 32px;\n",
              "      padding: 0 0 0 0;\n",
              "      width: 32px;\n",
              "    }\n",
              "\n",
              "    .colab-df-convert:hover {\n",
              "      background-color: #E2EBFA;\n",
              "      box-shadow: 0px 1px 2px rgba(60, 64, 67, 0.3), 0px 1px 3px 1px rgba(60, 64, 67, 0.15);\n",
              "      fill: #174EA6;\n",
              "    }\n",
              "\n",
              "    [theme=dark] .colab-df-convert {\n",
              "      background-color: #3B4455;\n",
              "      fill: #D2E3FC;\n",
              "    }\n",
              "\n",
              "    [theme=dark] .colab-df-convert:hover {\n",
              "      background-color: #434B5C;\n",
              "      box-shadow: 0px 1px 3px 1px rgba(0, 0, 0, 0.15);\n",
              "      filter: drop-shadow(0px 1px 2px rgba(0, 0, 0, 0.3));\n",
              "      fill: #FFFFFF;\n",
              "    }\n",
              "  </style>\n",
              "\n",
              "      <script>\n",
              "        const buttonEl =\n",
              "          document.querySelector('#df-564613a0-99b9-487c-bcb2-cf6147289764 button.colab-df-convert');\n",
              "        buttonEl.style.display =\n",
              "          google.colab.kernel.accessAllowed ? 'block' : 'none';\n",
              "\n",
              "        async function convertToInteractive(key) {\n",
              "          const element = document.querySelector('#df-564613a0-99b9-487c-bcb2-cf6147289764');\n",
              "          const dataTable =\n",
              "            await google.colab.kernel.invokeFunction('convertToInteractive',\n",
              "                                                     [key], {});\n",
              "          if (!dataTable) return;\n",
              "\n",
              "          const docLinkHtml = 'Like what you see? Visit the ' +\n",
              "            '<a target=\"_blank\" href=https://colab.research.google.com/notebooks/data_table.ipynb>data table notebook</a>'\n",
              "            + ' to learn more about interactive tables.';\n",
              "          element.innerHTML = '';\n",
              "          dataTable['output_type'] = 'display_data';\n",
              "          await google.colab.output.renderOutput(dataTable, element);\n",
              "          const docLink = document.createElement('div');\n",
              "          docLink.innerHTML = docLinkHtml;\n",
              "          element.appendChild(docLink);\n",
              "        }\n",
              "      </script>\n",
              "    </div>\n",
              "  </div>\n",
              "  "
            ],
            "text/plain": [
              "   cement   slag  flyash  water  ...  coarseaggregate  fineaggregate    age  csMPa\n",
              "0   540.0    0.0     0.0  162.0  ...           1040.0          676.0   28.0  79.99\n",
              "1   540.0    0.0     0.0  162.0  ...           1055.0          676.0   28.0  61.89\n",
              "2   332.5  142.5     0.0  228.0  ...            932.0          594.0  270.0  40.27\n",
              "3   332.5  142.5     0.0  228.0  ...            932.0          594.0  365.0  41.05\n",
              "4   198.6  132.4     0.0  192.0  ...            978.4          825.5  360.0  44.30\n",
              "5   266.0  114.0     0.0  228.0  ...            932.0          670.0   90.0  47.03\n",
              "6   380.0   95.0     0.0  228.0  ...            932.0          594.0  365.0  43.70\n",
              "7   380.0   95.0     0.0  228.0  ...            932.0          594.0   28.0  36.45\n",
              "8   266.0  114.0     0.0  228.0  ...            932.0          670.0   28.0  45.85\n",
              "9   475.0    0.0     0.0  228.0  ...            932.0          594.0   28.0  39.29\n",
              "\n",
              "[10 rows x 9 columns]"
            ]
          },
          "metadata": {},
          "execution_count": 6
        }
      ]
    },
    {
      "cell_type": "markdown",
      "metadata": {
        "id": "YycOfEOgZSiP"
      },
      "source": [
        "#### Custom Data Transform\n",
        "\n",
        "Now we will setup a transformation that can fail depending on the contents of the input dataset."
      ]
    },
    {
      "cell_type": "code",
      "metadata": {
        "id": "zSpGvxlsZHlx"
      },
      "source": [
        "def transform_concrete(concrete_dataset):\n",
        "  import pandas as pd\n",
        "  import numpy as np\n",
        "  import logging, sys\n",
        "  logging.basicConfig(stream=sys.stdout, level=logging.INFO)\n",
        "  feature_df = concrete_dataset.drop(['flyash'], axis=1)\n",
        "  no_flyash = feature_df[concrete_dataset.flyash == 0.0]\n",
        "  flyash = feature_df[concrete_dataset.flyash > 0.0]\n",
        "  mean_df = no_flyash.mean()\n",
        "  logging.info(mean_df)\n",
        "  if np.any(mean_df) < 10:\n",
        "    raise ValueError('Was expecting all means to be greater than 10.')\n",
        "  return pd.concat([no_flyash - no_flyash.assign(age=0).mean(), flyash - flyash.assign(age=0).mean()])"
      ],
      "execution_count": null,
      "outputs": []
    },
    {
      "cell_type": "markdown",
      "metadata": {
        "id": "wGSdSuifcyzC"
      },
      "source": [
        "### Running on Abacus.AI\n",
        "\n",
        "Let's see if we can use this to generate a feature group for training."
      ]
    },
    {
      "cell_type": "code",
      "metadata": {
        "id": "7siYsLdIZ3bL",
        "outputId": "9f299e9d-d7c6-43d5-f394-07b87222350c",
        "colab": {
          "base_uri": "https://localhost:8080/",
          "height": 363
        }
      },
      "source": [
        "try:\n",
        "  concrete_flyash = client.create_feature_group_from_function(\n",
        "      table_name='concrete_with_positive_means',\n",
        "      function_source_code=transform_concrete,\n",
        "      function_name='transform_concrete',\n",
        "      input_feature_groups=['concrete_strength'])\n",
        "except:\n",
        "  concrete_flyash = client.describe_feature_group_by_table_name('concrete_with_positive_means')\n",
        "if not concrete_flyash.latest_feature_group_version:\n",
        "  concrete_flyash.create_version()\n",
        "concrete_flyash.wait_for_materialization()\n",
        "concrete_by_flyash_df = concrete_flyash.load_as_pandas()"
      ],
      "execution_count": null,
      "outputs": [
        {
          "output_type": "error",
          "ename": "ApiException",
          "evalue": "ignored",
          "traceback": [
            "\u001b[0;31m---------------------------------------------------------------------------\u001b[0m",
            "\u001b[0;31mApiException\u001b[0m                              Traceback (most recent call last)",
            "\u001b[0;32m<ipython-input-8-a902a28b3f67>\u001b[0m in \u001b[0;36m<module>\u001b[0;34m()\u001b[0m\n\u001b[1;32m     10\u001b[0m   \u001b[0mconcrete_flyash\u001b[0m\u001b[0;34m.\u001b[0m\u001b[0mcreate_version\u001b[0m\u001b[0;34m(\u001b[0m\u001b[0;34m)\u001b[0m\u001b[0;34m\u001b[0m\u001b[0;34m\u001b[0m\u001b[0m\n\u001b[1;32m     11\u001b[0m \u001b[0mconcrete_flyash\u001b[0m\u001b[0;34m.\u001b[0m\u001b[0mwait_for_materialization\u001b[0m\u001b[0;34m(\u001b[0m\u001b[0;34m)\u001b[0m\u001b[0;34m\u001b[0m\u001b[0;34m\u001b[0m\u001b[0m\n\u001b[0;32m---> 12\u001b[0;31m \u001b[0mconcrete_by_flyash_df\u001b[0m \u001b[0;34m=\u001b[0m \u001b[0mconcrete_flyash\u001b[0m\u001b[0;34m.\u001b[0m\u001b[0mload_as_pandas\u001b[0m\u001b[0;34m(\u001b[0m\u001b[0;34m)\u001b[0m\u001b[0;34m\u001b[0m\u001b[0;34m\u001b[0m\u001b[0m\n\u001b[0m",
            "\u001b[0;32m/usr/local/lib/python3.7/dist-packages/abacusai/feature_group.py\u001b[0m in \u001b[0;36mload_as_pandas\u001b[0;34m(self)\u001b[0m\n\u001b[1;32m    602\u001b[0m             \u001b[0;32mfrom\u001b[0m \u001b[0;34m.\u001b[0m\u001b[0mclient\u001b[0m \u001b[0;32mimport\u001b[0m \u001b[0mApiException\u001b[0m\u001b[0;34m\u001b[0m\u001b[0;34m\u001b[0m\u001b[0m\n\u001b[1;32m    603\u001b[0m             \u001b[0;32mraise\u001b[0m \u001b[0mApiException\u001b[0m\u001b[0;34m(\u001b[0m\u001b[0;36m409\u001b[0m\u001b[0;34m,\u001b[0m \u001b[0;34m'Feature group must first be materialized'\u001b[0m\u001b[0;34m)\u001b[0m\u001b[0;34m\u001b[0m\u001b[0;34m\u001b[0m\u001b[0m\n\u001b[0;32m--> 604\u001b[0;31m         \u001b[0;32mreturn\u001b[0m \u001b[0mlatest_version\u001b[0m\u001b[0;34m.\u001b[0m\u001b[0mload_as_pandas\u001b[0m\u001b[0;34m(\u001b[0m\u001b[0;34m)\u001b[0m\u001b[0;34m\u001b[0m\u001b[0;34m\u001b[0m\u001b[0m\n\u001b[0m\u001b[1;32m    605\u001b[0m \u001b[0;34m\u001b[0m\u001b[0m\n\u001b[1;32m    606\u001b[0m     \u001b[0;32mdef\u001b[0m \u001b[0mdescribe_dataset\u001b[0m\u001b[0;34m(\u001b[0m\u001b[0mself\u001b[0m\u001b[0;34m)\u001b[0m\u001b[0;34m:\u001b[0m\u001b[0;34m\u001b[0m\u001b[0;34m\u001b[0m\u001b[0m\n",
            "\u001b[0;32m/usr/local/lib/python3.7/dist-packages/abacusai/feature_group_version.py\u001b[0m in \u001b[0;36mload_as_pandas\u001b[0;34m(self, max_workers)\u001b[0m\n\u001b[1;32m    155\u001b[0m \u001b[0;34m\u001b[0m\u001b[0m\n\u001b[1;32m    156\u001b[0m         file_parts = range(self.client._call_api(\n\u001b[0;32m--> 157\u001b[0;31m             '_getFeatureGroupVersionPartCount', 'GET', query_params={'featureGroupVersion': self.id}))\n\u001b[0m\u001b[1;32m    158\u001b[0m         \u001b[0mdata_df\u001b[0m \u001b[0;34m=\u001b[0m \u001b[0mpd\u001b[0m\u001b[0;34m.\u001b[0m\u001b[0mDataFrame\u001b[0m\u001b[0;34m(\u001b[0m\u001b[0;34m)\u001b[0m\u001b[0;34m\u001b[0m\u001b[0;34m\u001b[0m\u001b[0m\n\u001b[1;32m    159\u001b[0m         \u001b[0;32mwith\u001b[0m \u001b[0mThreadPoolExecutor\u001b[0m\u001b[0;34m(\u001b[0m\u001b[0mmax_workers\u001b[0m\u001b[0;34m=\u001b[0m\u001b[0mmax_workers\u001b[0m\u001b[0;34m)\u001b[0m \u001b[0;32mas\u001b[0m \u001b[0mexecutor\u001b[0m\u001b[0;34m:\u001b[0m\u001b[0;34m\u001b[0m\u001b[0;34m\u001b[0m\u001b[0m\n",
            "\u001b[0;32m/usr/local/lib/python3.7/dist-packages/abacusai/client.py\u001b[0m in \u001b[0;36m_call_api\u001b[0;34m(self, action, method, query_params, body, files, parse_type, streamable_response, server_override)\u001b[0m\n\u001b[1;32m    215\u001b[0m             \u001b[0;32melif\u001b[0m \u001b[0mresponse\u001b[0m\u001b[0;34m.\u001b[0m\u001b[0mstatus_code\u001b[0m \u001b[0;34m==\u001b[0m \u001b[0;36m404\u001b[0m \u001b[0;32mand\u001b[0m \u001b[0;32mnot\u001b[0m \u001b[0mself\u001b[0m\u001b[0;34m.\u001b[0m\u001b[0mclient_options\u001b[0m\u001b[0;34m.\u001b[0m\u001b[0mexception_on_404\u001b[0m\u001b[0;34m:\u001b[0m\u001b[0;34m\u001b[0m\u001b[0;34m\u001b[0m\u001b[0m\n\u001b[1;32m    216\u001b[0m                 \u001b[0;32mreturn\u001b[0m \u001b[0;32mNone\u001b[0m\u001b[0;34m\u001b[0m\u001b[0;34m\u001b[0m\u001b[0m\n\u001b[0;32m--> 217\u001b[0;31m             \u001b[0;32mraise\u001b[0m \u001b[0mApiException\u001b[0m\u001b[0;34m(\u001b[0m\u001b[0merror_message\u001b[0m\u001b[0;34m,\u001b[0m \u001b[0mresponse\u001b[0m\u001b[0;34m.\u001b[0m\u001b[0mstatus_code\u001b[0m\u001b[0;34m,\u001b[0m \u001b[0merror_type\u001b[0m\u001b[0;34m)\u001b[0m\u001b[0;34m\u001b[0m\u001b[0;34m\u001b[0m\u001b[0m\n\u001b[0m\u001b[1;32m    218\u001b[0m         \u001b[0;32mreturn\u001b[0m \u001b[0mresult\u001b[0m\u001b[0;34m\u001b[0m\u001b[0;34m\u001b[0m\u001b[0m\n\u001b[1;32m    219\u001b[0m \u001b[0;34m\u001b[0m\u001b[0m\n",
            "\u001b[0;31mApiException\u001b[0m: ConflictError(409): Feature Group Materialization Failed"
          ]
        }
      ]
    },
    {
      "cell_type": "code",
      "metadata": {
        "colab": {
          "base_uri": "https://localhost:8080/"
        },
        "id": "l_kViwSd-5M8",
        "outputId": "4db274f3-84f9-4ea8-aedd-77ccb0c6674d"
      },
      "source": [
        "concrete_flyash.latest_feature_group_version.get_materialization_logs(stdout=True, stderr=True)"
      ],
      "execution_count": null,
      "outputs": [
        {
          "output_type": "execute_result",
          "data": {
            "text/plain": [
              "[FunctionLogs(function='transform_concrete',\n",
              "   stats={'start': '2021-11-16T21:36:30.033503', 'end': '2021-11-16T21:36:30.037220'},\n",
              "   stdout=\u001b[92m'''\n",
              "       cement              314.037809\n",
              "       slag                100.110247\n",
              "       water               186.616784\n",
              "       superplasticizer      4.055654\n",
              "       coarseaggregate     973.357420\n",
              "       fineaggregate       764.853004\n",
              "       age                  55.040636\n",
              "       csMPa                36.771784\n",
              "       dtype: float64\n",
              " '''\u001b[0;0m,\n",
              "   stderr=\u001b[91m\u001b[0;0m,\n",
              "   exception=UserException(type='ValueError',\n",
              "   value='Was expecting all means to be greater than 10.',\n",
              "   traceback=\u001b[91m'''\n",
              "       Traceback (most recent call last):\n",
              "       line 10, in transform_concrete\n",
              "           raise ValueError('Was expecting all means to be greater than 10.')\n",
              "       ValueError: Was expecting all means to be greater than 10.\n",
              " '''\u001b[0;0m))]"
            ]
          },
          "metadata": {},
          "execution_count": 9
        }
      ]
    },
    {
      "cell_type": "markdown",
      "metadata": {
        "id": "2pv5fjeObtrF"
      },
      "source": [
        "### Model Training Logs\n",
        "\n",
        "The same thing applies to model training. In fact, for training runs it can useful too look at logs even when the job is successful."
      ]
    },
    {
      "cell_type": "code",
      "metadata": {
        "id": "38W5NRR0cBd8"
      },
      "source": [
        "def train(training_dataset):\n",
        "  # set the seed for reproduceable results\n",
        "  import numpy as np\n",
        "  import logging, sys\n",
        "  logging.basicConfig(stream=sys.stdout, level=logging.INFO)\n",
        "  np.random.seed(5)\n",
        "\n",
        "  X = training_dataset.drop(['csMPa'], axis=1)\n",
        "  logging.info(X.mean())\n",
        "  y = training_dataset.csMPa\n",
        "  from sklearn.preprocessing import QuantileTransformer\n",
        "  from sklearn.linear_model import LinearRegression\n",
        "  qt = QuantileTransformer(n_quantiles=20)\n",
        "  recent_model = LinearRegression()\n",
        "  _ = recent_model.fit(qt.fit_transform(X.values), y)\n",
        "  logging.info(qt.quantiles_)\n",
        "  model_r2 = recent_model.score(X.values, y)\n",
        "  logging.info(f'Linear model R^2 = {model_r2}')\n",
        "  if model_r2 < 0.50:\n",
        "    raise RuntimeError('Could not get a model with sufficient accuracy')\n",
        "  return (X.columns, qt, recent_model)"
      ],
      "execution_count": null,
      "outputs": []
    },
    {
      "cell_type": "markdown",
      "metadata": {
        "id": "woQK4LYrdEI8"
      },
      "source": [
        "### Prediction Function\n",
        "\n",
        "We will stick with a working predict function but one that is not very robust."
      ]
    },
    {
      "cell_type": "code",
      "metadata": {
        "id": "MQ4tWAjFdRj6"
      },
      "source": [
        "def predict(model, query):\n",
        "  columns, qt, recent_model = model\n",
        "  import pandas as pd\n",
        "  X = pd.DataFrame({c: [query[c]] for c in columns})\n",
        "  y = recent_model.predict(qt.transform(X.values))[0]\n",
        "  return {'csMPa': y}"
      ],
      "execution_count": null,
      "outputs": []
    },
    {
      "cell_type": "markdown",
      "metadata": {
        "id": "xoDQfssCeTF8"
      },
      "source": [
        "### Training Errors and Logs"
      ]
    },
    {
      "cell_type": "code",
      "metadata": {
        "id": "a8_QX3WheaSO",
        "colab": {
          "base_uri": "https://localhost:8080/"
        },
        "outputId": "04bdf598-d54d-44a5-8b21-2ddc91626715"
      },
      "source": [
        "model = client.create_model_from_functions(project_id=project, \n",
        "                                   train_function=train, \n",
        "                                   predict_function=predict, \n",
        "                                   training_input_tables=['concrete_strength'])\n",
        "model.wait_for_training()\n",
        "print(model.latest_model_version.get_training_logs(stdout=True, stderr=True)[0])"
      ],
      "execution_count": null,
      "outputs": [
        {
          "output_type": "stream",
          "name": "stdout",
          "text": [
            "FunctionLogs(function='train',\n",
            "  stats={'start': '2022-02-24T23:31:21.789026', 'end': '2022-02-24T23:31:22.415849'},\n",
            "  stdout=\u001b[92m'''\n",
            "      INFO:root:cement              281.167864\n",
            "      slag                 73.895825\n",
            "      flyash               54.188350\n",
            "      water               181.567282\n",
            "      superplasticizer      6.204660\n",
            "      coarseaggregate     972.918932\n",
            "      fineaggregate       773.580485\n",
            "      age                  45.662136\n",
            "      dtype: float64\n",
            "      INFO:root:[[1.02000000e+02 0.00000000e+00 0.00000000e+00 1.21800000e+02\n",
            "        0.00000000e+00 8.01000000e+02 5.94000000e+02 1.00000000e+00]\n",
            "       [1.44000000e+02 0.00000000e+00 0.00000000e+00 1.46131579e+02\n",
            "        0.00000000e+00 8.45284211e+02 6.13000000e+02 3.00000000e+00]\n",
            "       [1.54800000e+02 0.00000000e+00 0.00000000e+00 1.55052632e+02\n",
            "        0.00000000e+00 8.54315789e+02 6.70000000e+02 3.00000000e+00]\n",
            "       [1.66100000e+02 0.00000000e+00 0.00000000e+00 1.59000000e+02\n",
            "        0.00000000e+00 8.84900000e+02 6.93310526e+02 7.00000000e+00]\n",
            "       [1.81400000e+02 0.00000000e+00 0.00000000e+00 1.62000000e+02\n",
            "        0.00000000e+00 9.22852632e+02 7.12000000e+02 7.00000000e+00]\n",
            "       [1.98600000e+02 0.00000000e+00 0.00000000e+00 1.65600000e+02\n",
            "        0.00000000e+00 9.32000000e+02 7.36473684e+02 1.40000000e+01]\n",
            "       [2.13500000e+02 0.00000000e+00 0.00000000e+00 1.70578947e+02\n",
            "        0.00000000e+00 9.38000000e+02 7.50000000e+02 2.80000000e+01]\n",
            "       [2.30189474e+02 0.00000000e+00 0.00000000e+00 1.75142105e+02\n",
            "        1.70000000e+00 9.44700000e+02 7.55894737e+02 2.80000000e+01]\n",
            "       [2.49336842e+02 0.00000000e+00 0.00000000e+00 1.79000000e+02\n",
            "        4.60000000e+00 9.55100000e+02 7.63000000e+02 2.80000000e+01]\n",
            "       [2.54421053e+02 1.81894737e+01 0.00000000e+00 1.82668421e+02\n",
            "        6.00000000e+00 9.67000000e+02 7.76400000e+02 2.80000000e+01]\n",
            "       [2.77200000e+02 3.80000000e+01 0.00000000e+00 1.85700000e+02\n",
            "        6.95789474e+00 9.70231579e+02 7.81000000e+02 2.80000000e+01]\n",
            "       [2.96000000e+02 9.34000000e+01 7.90000000e+01 1.86621053e+02\n",
            "        7.80000000e+00 9.78400000e+02 7.89000000e+02 2.80000000e+01]\n",
            "       [3.10000000e+02 1.06173684e+02 9.55368421e+01 1.91000000e+02\n",
            "        8.50000000e+00 1.00350000e+03 8.00000000e+02 2.80000000e+01]\n",
            "       [3.26710526e+02 1.19036842e+02 1.00400000e+02 1.92000000e+02\n",
            "        9.40000000e+00 1.00730000e+03 8.04905263e+02 2.80000000e+01]\n",
            "       [3.49000000e+02 1.39921053e+02 1.17500000e+02 1.92000000e+02\n",
            "        1.00000000e+01 1.02810000e+03 8.21000000e+02 5.60000000e+01]\n",
            "       [3.74000000e+02 1.57663158e+02 1.21900000e+02 1.95000000e+02\n",
            "        1.10000000e+01 1.04700000e+03 8.42600000e+02 5.60000000e+01]\n",
            "       [3.87000000e+02 1.83210526e+02 1.25400000e+02 2.00000000e+02\n",
            "        1.16000000e+01 1.05703158e+03 8.56210526e+02 9.00000000e+01]\n",
            "       [4.25000000e+02 1.90000000e+02 1.41000000e+02 2.03500000e+02\n",
            "        1.20684211e+01 1.07570000e+03 8.79684211e+02 1.00000000e+02]\n",
            "       [4.80000000e+02 2.35131579e+02 1.67000000e+02 2.28000000e+02\n",
            "        1.59000000e+01 1.10000000e+03 8.95300000e+02 1.80000000e+02]\n",
            "       [5.40000000e+02 3.59400000e+02 2.00100000e+02 2.47000000e+02\n",
            "        3.22000000e+01 1.14500000e+03 9.92600000e+02 3.65000000e+02]]\n",
            "      INFO:root:Linear model R^2 = -155658.21649588985\n",
            "'''\u001b[0;0m,\n",
            "  stderr=\u001b[91m\u001b[0;0m,\n",
            "  exception=UserException(type='RuntimeError',\n",
            "  value='Could not get a model with sufficient accuracy',\n",
            "  traceback=\u001b[91m'''\n",
            "      Traceback (most recent call last):\n",
            "      line 20, in train\n",
            "          raise RuntimeError('Could not get a model with sufficient accuracy')\n",
            "      RuntimeError: Could not get a model with sufficient accuracy\n",
            "'''\u001b[0;0m))\n"
          ]
        }
      ]
    },
    {
      "cell_type": "markdown",
      "metadata": {
        "id": "lv49KPlg0sWR"
      },
      "source": [
        "Let's fix up the error and try again."
      ]
    },
    {
      "cell_type": "code",
      "metadata": {
        "id": "HfOOi0icHhXG"
      },
      "source": [
        "def train_fixed(training_dataset):\n",
        "  # set the seed for reproduceable results\n",
        "  import numpy as np\n",
        "  import logging, sys\n",
        "  logging.basicConfig(stream=sys.stdout, level=logging.INFO)\n",
        "  np.random.seed(5)\n",
        "\n",
        "  X = training_dataset.drop(['csMPa'], axis=1)\n",
        "  logging.info(X.mean())\n",
        "  y = training_dataset.csMPa\n",
        "  from sklearn.preprocessing import QuantileTransformer\n",
        "  from sklearn.linear_model import LinearRegression\n",
        "  qt = QuantileTransformer(n_quantiles=20)\n",
        "  recent_model = LinearRegression()\n",
        "  _ = recent_model.fit(qt.fit_transform(X.values), y)\n",
        "  logging.info(qt.quantiles_)\n",
        "  model_r2 = recent_model.score(qt.transform(X.values), y)\n",
        "  logging.info(f'Linear model R^2 = {model_r2}')\n",
        "  if model_r2 < 0.50:\n",
        "    raise RuntimeError('Could not get a model with sufficient accuracy')\n",
        "  return (X.columns, qt, recent_model)"
      ],
      "execution_count": null,
      "outputs": []
    },
    {
      "cell_type": "code",
      "metadata": {
        "colab": {
          "base_uri": "https://localhost:8080/"
        },
        "id": "7EIBbAWNH6eT",
        "outputId": "d6cd6d5d-feff-4f4a-8c28-d275d261ebd6"
      },
      "source": [
        "model = client.create_model_from_functions(project_id=project, \n",
        "                                   train_function=train_fixed, \n",
        "                                   predict_function=predict, \n",
        "                                   training_input_tables=['concrete_strength'])\n",
        "model.wait_for_training()\n",
        "print(model.latest_model_version.get_training_logs(stdout=True, stderr=True)[0])"
      ],
      "execution_count": null,
      "outputs": [
        {
          "output_type": "stream",
          "name": "stdout",
          "text": [
            "FunctionLogs(function='train_fixed',\n",
            "  stats={'start': '2022-02-24T23:37:23.094949', 'end': '2022-02-24T23:37:23.706260'},\n",
            "  stdout=\u001b[92m'''\n",
            "      INFO:root:cement              281.167864\n",
            "      slag                 73.895825\n",
            "      flyash               54.188350\n",
            "      water               181.567282\n",
            "      superplasticizer      6.204660\n",
            "      coarseaggregate     972.918932\n",
            "      fineaggregate       773.580485\n",
            "      age                  45.662136\n",
            "      dtype: float64\n",
            "      INFO:root:[[1.02000000e+02 0.00000000e+00 0.00000000e+00 1.21800000e+02\n",
            "        0.00000000e+00 8.01000000e+02 5.94000000e+02 1.00000000e+00]\n",
            "       [1.44000000e+02 0.00000000e+00 0.00000000e+00 1.46131579e+02\n",
            "        0.00000000e+00 8.45284211e+02 6.13000000e+02 3.00000000e+00]\n",
            "       [1.54800000e+02 0.00000000e+00 0.00000000e+00 1.55052632e+02\n",
            "        0.00000000e+00 8.54315789e+02 6.70000000e+02 3.00000000e+00]\n",
            "       [1.66100000e+02 0.00000000e+00 0.00000000e+00 1.59000000e+02\n",
            "        0.00000000e+00 8.84900000e+02 6.93310526e+02 7.00000000e+00]\n",
            "       [1.81400000e+02 0.00000000e+00 0.00000000e+00 1.62000000e+02\n",
            "        0.00000000e+00 9.22852632e+02 7.12000000e+02 7.00000000e+00]\n",
            "       [1.98600000e+02 0.00000000e+00 0.00000000e+00 1.65600000e+02\n",
            "        0.00000000e+00 9.32000000e+02 7.36473684e+02 1.40000000e+01]\n",
            "       [2.13500000e+02 0.00000000e+00 0.00000000e+00 1.70578947e+02\n",
            "        0.00000000e+00 9.38000000e+02 7.50000000e+02 2.80000000e+01]\n",
            "       [2.30189474e+02 0.00000000e+00 0.00000000e+00 1.75142105e+02\n",
            "        1.70000000e+00 9.44700000e+02 7.55894737e+02 2.80000000e+01]\n",
            "       [2.49336842e+02 0.00000000e+00 0.00000000e+00 1.79000000e+02\n",
            "        4.60000000e+00 9.55100000e+02 7.63000000e+02 2.80000000e+01]\n",
            "       [2.54421053e+02 1.81894737e+01 0.00000000e+00 1.82668421e+02\n",
            "        6.00000000e+00 9.67000000e+02 7.76400000e+02 2.80000000e+01]\n",
            "       [2.77200000e+02 3.80000000e+01 0.00000000e+00 1.85700000e+02\n",
            "        6.95789474e+00 9.70231579e+02 7.81000000e+02 2.80000000e+01]\n",
            "       [2.96000000e+02 9.34000000e+01 7.90000000e+01 1.86621053e+02\n",
            "        7.80000000e+00 9.78400000e+02 7.89000000e+02 2.80000000e+01]\n",
            "       [3.10000000e+02 1.06173684e+02 9.55368421e+01 1.91000000e+02\n",
            "        8.50000000e+00 1.00350000e+03 8.00000000e+02 2.80000000e+01]\n",
            "       [3.26710526e+02 1.19036842e+02 1.00400000e+02 1.92000000e+02\n",
            "        9.40000000e+00 1.00730000e+03 8.04905263e+02 2.80000000e+01]\n",
            "       [3.49000000e+02 1.39921053e+02 1.17500000e+02 1.92000000e+02\n",
            "        1.00000000e+01 1.02810000e+03 8.21000000e+02 5.60000000e+01]\n",
            "       [3.74000000e+02 1.57663158e+02 1.21900000e+02 1.95000000e+02\n",
            "        1.10000000e+01 1.04700000e+03 8.42600000e+02 5.60000000e+01]\n",
            "       [3.87000000e+02 1.83210526e+02 1.25400000e+02 2.00000000e+02\n",
            "        1.16000000e+01 1.05703158e+03 8.56210526e+02 9.00000000e+01]\n",
            "       [4.25000000e+02 1.90000000e+02 1.41000000e+02 2.03500000e+02\n",
            "        1.20684211e+01 1.07570000e+03 8.79684211e+02 1.00000000e+02]\n",
            "       [4.80000000e+02 2.35131579e+02 1.67000000e+02 2.28000000e+02\n",
            "        1.59000000e+01 1.10000000e+03 8.95300000e+02 1.80000000e+02]\n",
            "       [5.40000000e+02 3.59400000e+02 2.00100000e+02 2.47000000e+02\n",
            "        3.22000000e+01 1.14500000e+03 9.92600000e+02 3.65000000e+02]]\n",
            "      INFO:root:Linear model R^2 = 0.809135155407092\n",
            "'''\u001b[0;0m,\n",
            "  stderr=\u001b[91m\u001b[0;0m,\n",
            "  exception=None)\n"
          ]
        }
      ]
    },
    {
      "cell_type": "code",
      "metadata": {
        "id": "y_y39zZOfaky"
      },
      "source": [
        "deployment_token = client.create_deployment_token(project).deployment_token\n",
        "deployment = client.create_deployment(model_id=model)\n",
        "deployment.wait_for_deployment()"
      ],
      "execution_count": null,
      "outputs": []
    },
    {
      "cell_type": "markdown",
      "metadata": {
        "id": "HbqwEs9l1DRp"
      },
      "source": [
        "Now we can run predictions on Abacus and compare against predictions from the local model."
      ]
    },
    {
      "cell_type": "code",
      "metadata": {
        "id": "Sfr0OUi1hzpk",
        "colab": {
          "base_uri": "https://localhost:8080/"
        },
        "outputId": "8f538c4f-adc1-4ead-beec-3ee7142c40e2"
      },
      "source": [
        "# remotely trained\n",
        "for _, r in concrete_df[:5].iterrows():\n",
        "  print(client.predict(deployment_token, deployment.deployment_id, r.to_dict()), r['csMPa'])"
      ],
      "execution_count": null,
      "outputs": [
        {
          "output_type": "stream",
          "name": "stdout",
          "text": [
            "{'csMPa': 51.50365071691952} 79.99\n",
            "{'csMPa': 51.47965282255592} 61.89\n",
            "{'csMPa': 56.04384149462997} 40.27\n",
            "{'csMPa': 57.02361874408969} 41.05\n",
            "{'csMPa': 43.71257572519326} 44.3\n"
          ]
        }
      ]
    },
    {
      "cell_type": "markdown",
      "metadata": {
        "id": "4R9YAKnSRA6j"
      },
      "source": [
        "### Prediction Errors\n",
        "\n",
        "As mentioned prediction errors are handled a little differently. Rather than having to fetch logs for errors generated during prediction the exception is returned in the response. The response will contain an the `error` key and a traceback of the exception that happened.\n",
        "\n",
        "The prediction function is not resilient to missing inputs so passing in a request without the inputs causes an error."
      ]
    },
    {
      "cell_type": "code",
      "metadata": {
        "colab": {
          "base_uri": "https://localhost:8080/"
        },
        "id": "DlCFrbDpQ2Bk",
        "outputId": "2cb5a90e-e64a-4823-8493-4c37067a7f8a"
      },
      "source": [
        "# remotely trained\n",
        "for _, r in concrete_df.drop('age', axis=1)[:5].iterrows():\n",
        "  print(client.predict(deployment_token, deployment.deployment_id, r.to_dict()), r['csMPa'])"
      ],
      "execution_count": null,
      "outputs": [
        {
          "output_type": "stream",
          "name": "stdout",
          "text": [
            "{'error': \"'age'\", 'traceback': 'Traceback (most recent call last):\\nline 25, in predict\\n    X = pd.DataFrame({c: [query[c]] for c in columns})\\n  File \"/usercode/__source_cddb6379cc.py\", line 25, in <dictcomp>\\n    X = pd.DataFrame({c: [query[c]] for c in columns})\\nKeyError: \\'age\\'\\n'} 79.99\n",
            "{'error': \"'age'\", 'traceback': 'Traceback (most recent call last):\\nline 25, in predict\\n    X = pd.DataFrame({c: [query[c]] for c in columns})\\n  File \"/usercode/__source_cddb6379cc.py\", line 25, in <dictcomp>\\n    X = pd.DataFrame({c: [query[c]] for c in columns})\\nKeyError: \\'age\\'\\n'} 61.89\n",
            "{'error': \"'age'\", 'traceback': 'Traceback (most recent call last):\\nline 25, in predict\\n    X = pd.DataFrame({c: [query[c]] for c in columns})\\n  File \"/usercode/__source_cddb6379cc.py\", line 25, in <dictcomp>\\n    X = pd.DataFrame({c: [query[c]] for c in columns})\\nKeyError: \\'age\\'\\n'} 40.27\n",
            "{'error': \"'age'\", 'traceback': 'Traceback (most recent call last):\\nline 25, in predict\\n    X = pd.DataFrame({c: [query[c]] for c in columns})\\n  File \"/usercode/__source_cddb6379cc.py\", line 25, in <dictcomp>\\n    X = pd.DataFrame({c: [query[c]] for c in columns})\\nKeyError: \\'age\\'\\n'} 41.05\n",
            "{'error': \"'age'\", 'traceback': 'Traceback (most recent call last):\\nline 25, in predict\\n    X = pd.DataFrame({c: [query[c]] for c in columns})\\n  File \"/usercode/__source_cddb6379cc.py\", line 25, in <dictcomp>\\n    X = pd.DataFrame({c: [query[c]] for c in columns})\\nKeyError: \\'age\\'\\n'} 44.3\n"
          ]
        }
      ]
    },
    {
      "cell_type": "markdown",
      "metadata": {
        "id": "ldzgWUDDYegz"
      },
      "source": [
        "## More Complex Scripts\n",
        "\n",
        "When the model training algorithm becomes more complicated it is unrealistic to fit it all into a single function. In that case you can supply the script file as the code resource. Below is a simple recipe for shipping code from Github to Abacus for training."
      ]
    },
    {
      "cell_type": "code",
      "metadata": {
        "id": "OvYmjStDQ77m"
      },
      "source": [
        "!pip install PyGithub"
      ],
      "execution_count": null,
      "outputs": []
    },
    {
      "cell_type": "code",
      "metadata": {
        "colab": {
          "base_uri": "https://localhost:8080/"
        },
        "id": "tLPuS-4oY4ND",
        "outputId": "092e6995-29f1-4545-8ee0-65f8a0b03753"
      },
      "source": [
        "from github import Github\n",
        "gh = Github()\n",
        "repo = gh.get_repo('abacusai/api-python')\n",
        "print(repo.get_contents('examples/fullscript.py').decoded_content.decode())"
      ],
      "execution_count": null,
      "outputs": [
        {
          "output_type": "stream",
          "name": "stdout",
          "text": [
            "from sys import stderr\n",
            "import pandas as pd\n",
            "import numpy as np\n",
            "from sklearn.preprocessing import QuantileTransformer\n",
            "from sklearn.linear_model import LinearRegression\n",
            "\n",
            "\n",
            "def transform_concrete(concrete_dataset):\n",
            "  feature_df = concrete_dataset.drop(['flyash'], axis=1)\n",
            "  no_flyash = feature_df[concrete_dataset.flyash == 0.0]\n",
            "  flyash = feature_df[concrete_dataset.flyash > 0.0]\n",
            "  mean_df = no_flyash.mean()\n",
            "  print(mean_df)\n",
            "  return pd.concat([no_flyash - no_flyash.assign(age=0).mean(), flyash - flyash.assign(age=0).mean()])\n",
            "\n",
            "\n",
            "def to_quantiles(X):\n",
            "  qt = QuantileTransformer(n_quantiles=20)\n",
            "  X_q = qt.fit_transform(X.values)\n",
            "  print(qt.quantiles_)\n",
            "  return qt, X_q\n",
            "\n",
            "def train_model(training_dataset):\n",
            "  np.random.seed(5)\n",
            "\n",
            "  X = training_dataset.drop(['csMPa'], axis=1)\n",
            "  print(X.mean())\n",
            "  y = training_dataset.csMPa\n",
            "  qt, X_q = to_quantiles(X)\n",
            "\n",
            "  recent_model = LinearRegression()\n",
            "  fit_result = recent_model.fit(X_q, y)\n",
            "  print(fit_result)\n",
            "  model_r2 = recent_model.score(qt.transform(X.values), y)\n",
            "\n",
            "  print(f'Linear model R^2 = {model_r2}')\n",
            "  if model_r2 < 0.50:\n",
            "    raise RuntimeError('Could not get a model with sufficient accuracy')\n",
            "  if model_r2 < 0.85:\n",
            "      print(f'Got a low R^2 {model_r2}', file=stderr)\n",
            "\n",
            "  return (X.columns, qt, recent_model)\n",
            "\n",
            "\n",
            "def predict(model, query):\n",
            "  columns, qt, recent_model = model\n",
            "  import pandas as pd\n",
            "  X = pd.DataFrame({c: [query.get(c, 0.0)] for c in columns})\n",
            "  y = recent_model.predict(qt.transform(X.values))[0]\n",
            "  return {'csMPa': y}\n"
          ]
        }
      ]
    },
    {
      "cell_type": "code",
      "metadata": {
        "colab": {
          "base_uri": "https://localhost:8080/"
        },
        "id": "QLes8BEnZEEm",
        "outputId": "ef34a252-3a91-49ce-ecc4-ca50be61eb59"
      },
      "source": [
        "model = client.create_model_from_python(\n",
        "    project_id=project,\n",
        "    function_source_code=repo.get_contents('examples/fullscript.py').decoded_content.decode(),\n",
        "    train_function_name='train_model',\n",
        "    predict_function_name='predict',\n",
        "    training_input_tables=['concrete_strength'])\n",
        "model.wait_for_training()\n",
        "print(model.latest_model_version.get_training_logs(stdout=True, stderr=True)[0])"
      ],
      "execution_count": null,
      "outputs": [
        {
          "output_type": "stream",
          "name": "stdout",
          "text": [
            "FunctionLogs(function='train_model',\n",
            "  stats={'start': '2021-11-16T20:32:27.173756', 'end': '2021-11-16T20:32:27.566631'},\n",
            "  stdout=\u001b[92m'''\n",
            "      cement              281.167864\n",
            "      slag                 73.895825\n",
            "      flyash               54.188350\n",
            "      water               181.567282\n",
            "      superplasticizer      6.204660\n",
            "      coarseaggregate     972.918932\n",
            "      fineaggregate       773.580485\n",
            "      age                  45.662136\n",
            "      dtype: float64\n",
            "      [[1.02000000e+02 0.00000000e+00 0.00000000e+00 1.21800000e+02\n",
            "        0.00000000e+00 8.01000000e+02 5.94000000e+02 1.00000000e+00]\n",
            "       [1.44000000e+02 0.00000000e+00 0.00000000e+00 1.46131579e+02\n",
            "        0.00000000e+00 8.45284211e+02 6.13000000e+02 3.00000000e+00]\n",
            "       [1.54800000e+02 0.00000000e+00 0.00000000e+00 1.55052632e+02\n",
            "        0.00000000e+00 8.54315789e+02 6.70000000e+02 3.00000000e+00]\n",
            "       [1.66100000e+02 0.00000000e+00 0.00000000e+00 1.59000000e+02\n",
            "        0.00000000e+00 8.84900000e+02 6.93310526e+02 7.00000000e+00]\n",
            "       [1.81400000e+02 0.00000000e+00 0.00000000e+00 1.62000000e+02\n",
            "        0.00000000e+00 9.22852632e+02 7.12000000e+02 7.00000000e+00]\n",
            "       [1.98600000e+02 0.00000000e+00 0.00000000e+00 1.65600000e+02\n",
            "        0.00000000e+00 9.32000000e+02 7.36473684e+02 1.40000000e+01]\n",
            "       [2.13500000e+02 0.00000000e+00 0.00000000e+00 1.70578947e+02\n",
            "        0.00000000e+00 9.38000000e+02 7.50000000e+02 2.80000000e+01]\n",
            "       [2.30189474e+02 0.00000000e+00 0.00000000e+00 1.75142105e+02\n",
            "        1.70000000e+00 9.44700000e+02 7.55894737e+02 2.80000000e+01]\n",
            "       [2.49336842e+02 0.00000000e+00 0.00000000e+00 1.79000000e+02\n",
            "        4.60000000e+00 9.55100000e+02 7.63000000e+02 2.80000000e+01]\n",
            "       [2.54421053e+02 1.81894737e+01 0.00000000e+00 1.82668421e+02\n",
            "        6.00000000e+00 9.67000000e+02 7.76400000e+02 2.80000000e+01]\n",
            "       [2.77200000e+02 3.80000000e+01 0.00000000e+00 1.85700000e+02\n",
            "        6.95789474e+00 9.70231579e+02 7.81000000e+02 2.80000000e+01]\n",
            "       [2.96000000e+02 9.34000000e+01 7.90000000e+01 1.86621053e+02\n",
            "        7.80000000e+00 9.78400000e+02 7.89000000e+02 2.80000000e+01]\n",
            "       [3.10000000e+02 1.06173684e+02 9.55368421e+01 1.91000000e+02\n",
            "        8.50000000e+00 1.00350000e+03 8.00000000e+02 2.80000000e+01]\n",
            "       [3.26710526e+02 1.19036842e+02 1.00400000e+02 1.92000000e+02\n",
            "        9.40000000e+00 1.00730000e+03 8.04905263e+02 2.80000000e+01]\n",
            "       [3.49000000e+02 1.39921053e+02 1.17500000e+02 1.92000000e+02\n",
            "        1.00000000e+01 1.02810000e+03 8.21000000e+02 5.60000000e+01]\n",
            "       [3.74000000e+02 1.57663158e+02 1.21900000e+02 1.95000000e+02\n",
            "        1.10000000e+01 1.04700000e+03 8.42600000e+02 5.60000000e+01]\n",
            "       [3.87000000e+02 1.83210526e+02 1.25400000e+02 2.00000000e+02\n",
            "        1.16000000e+01 1.05703158e+03 8.56210526e+02 9.00000000e+01]\n",
            "       [4.25000000e+02 1.90000000e+02 1.41000000e+02 2.03500000e+02\n",
            "        1.20684211e+01 1.07570000e+03 8.79684211e+02 1.00000000e+02]\n",
            "       [4.80000000e+02 2.35131579e+02 1.67000000e+02 2.28000000e+02\n",
            "        1.59000000e+01 1.10000000e+03 8.95300000e+02 1.80000000e+02]\n",
            "       [5.40000000e+02 3.59400000e+02 2.00100000e+02 2.47000000e+02\n",
            "        3.22000000e+01 1.14500000e+03 9.92600000e+02 3.65000000e+02]]\n",
            "      LinearRegression()\n",
            "      Linear model R^2 = 0.809135155407092\n",
            "'''\u001b[0;0m,\n",
            "  stderr=\u001b[91m'''\n",
            "      Got a low R^2 0.809135155407092\n",
            "'''\u001b[0;0m,\n",
            "  exception=UserException(type=None,\n",
            "  value=None,\n",
            "  traceback=\u001b[91m\u001b[0;0m))\n"
          ]
        }
      ]
    }
  ]
}